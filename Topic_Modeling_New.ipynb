{
 "cells": [
  {
   "cell_type": "markdown",
   "metadata": {},
   "source": [
    "# Topic Modeling of Amazon Reviews"
   ]
  },
  {
   "cell_type": "markdown",
   "metadata": {},
   "source": [
    "### Steps:\n",
    "\n",
    "- Find asin (unique id for a product on Amazon) for all cell phones that belong to the brand \"Samsung\" \n",
    "    -  Filter rows from df_metadata where categories like ['Cell Phones & Accessories', 'Cell Phones','....']\n",
    "    -  Filter rows where brand = \"Samsung\"\n",
    "- Create a new dataframe by joining the asin in the dataframe derived in the previous step with df_reviews to capture all reviews related to Samsung Cell Phones. \n",
    "\n",
    "#### Pre-processing:\n",
    "- Choose the right corpus: \n",
    "    -  Filter records where the number of words in the review is greater than a threshold. (e.g 200 words or more)"
   ]
  },
  {
   "cell_type": "markdown",
   "metadata": {},
   "source": [
    "Import libraries, define functions"
   ]
  },
  {
   "cell_type": "code",
   "execution_count": 1,
   "metadata": {
    "collapsed": true
   },
   "outputs": [],
   "source": [
    "import json\n",
    "import os\n",
    "import glob\n",
    "import numpy as np\n",
    "import random\n",
    "import pandas as pd\n",
    "import gzip\n",
    "\n",
    "def parse(path):\n",
    "    g = gzip.open(path, 'rb')\n",
    "    for l in g:\n",
    "        yield eval(l)\n",
    "\n",
    "def getDF(path):\n",
    "    i = 0\n",
    "    df = {}\n",
    "    for d in parse(path):\n",
    "        df[i] = d\n",
    "        i += 1\n",
    "    return pd.DataFrame.from_dict(df, orient='index')"
   ]
  },
  {
   "cell_type": "markdown",
   "metadata": {},
   "source": [
    "Read data"
   ]
  },
  {
   "cell_type": "code",
   "execution_count": 4,
   "metadata": {
    "collapsed": false
   },
   "outputs": [],
   "source": [
    "data_dir = '/Users/birupakhya/Documents/Projects/topic modeling/'\n",
    "# df_reviews = getDF(data_dir+'reviews_Cell_Phones_and_Accessories_5.json.gz')\n",
    "# df_metadata = getDF(data_dir+'samsung_metadata.json.gz')\n",
    "df_metadata = getDF(data_dir+'meta_Cell_Phones_and_Accessories.json.gz')"
   ]
  },
  {
   "cell_type": "code",
   "execution_count": 5,
   "metadata": {
    "collapsed": false
   },
   "outputs": [
    {
     "ename": "NameError",
     "evalue": "name 'df_reviews' is not defined",
     "output_type": "error",
     "traceback": [
      "\u001b[0;31m---------------------------------------------------------------------------\u001b[0m",
      "\u001b[0;31mNameError\u001b[0m                                 Traceback (most recent call last)",
      "\u001b[0;32m<ipython-input-5-f2cd30eedae7>\u001b[0m in \u001b[0;36m<module>\u001b[0;34m()\u001b[0m\n\u001b[0;32m----> 1\u001b[0;31m \u001b[0mdf_reviews\u001b[0m\u001b[0;34m.\u001b[0m\u001b[0mhead\u001b[0m\u001b[0;34m(\u001b[0m\u001b[0;34m)\u001b[0m\u001b[0;34m\u001b[0m\u001b[0m\n\u001b[0m",
      "\u001b[0;31mNameError\u001b[0m: name 'df_reviews' is not defined"
     ]
    }
   ],
   "source": [
    "df_reviews.head()"
   ]
  },
  {
   "cell_type": "code",
   "execution_count": 7,
   "metadata": {
    "collapsed": false
   },
   "outputs": [
    {
     "data": {
      "text/html": [
       "<div>\n",
       "<table border=\"1\" class=\"dataframe\">\n",
       "  <thead>\n",
       "    <tr style=\"text-align: right;\">\n",
       "      <th></th>\n",
       "      <th>asin</th>\n",
       "      <th>related</th>\n",
       "      <th>title</th>\n",
       "      <th>price</th>\n",
       "      <th>salesRank</th>\n",
       "      <th>imUrl</th>\n",
       "      <th>brand</th>\n",
       "      <th>categories</th>\n",
       "      <th>description</th>\n",
       "    </tr>\n",
       "  </thead>\n",
       "  <tbody>\n",
       "    <tr>\n",
       "      <th>0</th>\n",
       "      <td>0110400550</td>\n",
       "      <td>{'also_bought': ['B00C56IXFG', 'B008ZUQWOK', '...</td>\n",
       "      <td>Pink &amp;amp; White 3d Melt Ice-cream Skin Hard C...</td>\n",
       "      <td>3.33</td>\n",
       "      <td>{'Cell Phones &amp; Accessories': 83460}</td>\n",
       "      <td>http://ecx.images-amazon.com/images/I/31zn6SOL...</td>\n",
       "      <td></td>\n",
       "      <td>[[Cell Phones &amp; Accessories, Cases, Basic Cases]]</td>\n",
       "      <td>Pink &amp; White 3D Melt Ice-Cream Skin Hard Case ...</td>\n",
       "    </tr>\n",
       "    <tr>\n",
       "      <th>1</th>\n",
       "      <td>011040047X</td>\n",
       "      <td>{'buy_after_viewing': ['B008RU7UL2', 'B00698LY...</td>\n",
       "      <td>Purple Hard Case Cover for Iphone 4 4s 4g with...</td>\n",
       "      <td>1.94</td>\n",
       "      <td>{'Cell Phones &amp; Accessories': 495795}</td>\n",
       "      <td>http://ecx.images-amazon.com/images/I/41WCZc2d...</td>\n",
       "      <td>NaN</td>\n",
       "      <td>[[Cell Phones &amp; Accessories, Cases, Basic Cases]]</td>\n",
       "      <td>Purple Hard Case Cover for iPhone 4 4S 4G With...</td>\n",
       "    </tr>\n",
       "  </tbody>\n",
       "</table>\n",
       "</div>"
      ],
      "text/plain": [
       "         asin                                            related  \\\n",
       "0  0110400550  {'also_bought': ['B00C56IXFG', 'B008ZUQWOK', '...   \n",
       "1  011040047X  {'buy_after_viewing': ['B008RU7UL2', 'B00698LY...   \n",
       "\n",
       "                                               title  price  \\\n",
       "0  Pink &amp; White 3d Melt Ice-cream Skin Hard C...   3.33   \n",
       "1  Purple Hard Case Cover for Iphone 4 4s 4g with...   1.94   \n",
       "\n",
       "                               salesRank  \\\n",
       "0   {'Cell Phones & Accessories': 83460}   \n",
       "1  {'Cell Phones & Accessories': 495795}   \n",
       "\n",
       "                                               imUrl brand  \\\n",
       "0  http://ecx.images-amazon.com/images/I/31zn6SOL...         \n",
       "1  http://ecx.images-amazon.com/images/I/41WCZc2d...   NaN   \n",
       "\n",
       "                                          categories  \\\n",
       "0  [[Cell Phones & Accessories, Cases, Basic Cases]]   \n",
       "1  [[Cell Phones & Accessories, Cases, Basic Cases]]   \n",
       "\n",
       "                                         description  \n",
       "0  Pink & White 3D Melt Ice-Cream Skin Hard Case ...  \n",
       "1  Purple Hard Case Cover for iPhone 4 4S 4G With...  "
      ]
     },
     "execution_count": 7,
     "metadata": {},
     "output_type": "execute_result"
    }
   ],
   "source": [
    "df_metadata.head(2)"
   ]
  },
  {
   "cell_type": "code",
   "execution_count": 9,
   "metadata": {
    "collapsed": false
   },
   "outputs": [
    {
     "data": {
      "text/html": [
       "<div>\n",
       "<table border=\"1\" class=\"dataframe\">\n",
       "  <thead>\n",
       "    <tr style=\"text-align: right;\">\n",
       "      <th></th>\n",
       "      <th>asin</th>\n",
       "      <th>related</th>\n",
       "      <th>title</th>\n",
       "      <th>price</th>\n",
       "      <th>salesRank</th>\n",
       "      <th>imUrl</th>\n",
       "      <th>brand</th>\n",
       "      <th>categories</th>\n",
       "      <th>description</th>\n",
       "    </tr>\n",
       "  </thead>\n",
       "  <tbody>\n",
       "    <tr>\n",
       "      <th>103</th>\n",
       "      <td>549980088X</td>\n",
       "      <td>{'buy_after_viewing': ['B001BRHXA6']}</td>\n",
       "      <td>Red LED Car/Vehicle Charger for Samsung&amp;copy; ...</td>\n",
       "      <td>3.84</td>\n",
       "      <td>{'Cell Phones &amp; Accessories': 291518}</td>\n",
       "      <td>http://ecx.images-amazon.com/images/I/41H0DdRZ...</td>\n",
       "      <td>Samsung</td>\n",
       "      <td>[[Cell Phones &amp; Accessories, Accessories, Char...</td>\n",
       "      <td>Portable lightweight red led car charger offer...</td>\n",
       "    </tr>\n",
       "    <tr>\n",
       "      <th>104</th>\n",
       "      <td>5499800650</td>\n",
       "      <td>NaN</td>\n",
       "      <td>Car Charger for Bell Samsung&amp;copy; Instinct Om...</td>\n",
       "      <td>3.88</td>\n",
       "      <td>{'Cell Phones &amp; Accessories': 917469}</td>\n",
       "      <td>http://ecx.images-amazon.com/images/I/41RgM6dR...</td>\n",
       "      <td>Samsung</td>\n",
       "      <td>[[Cell Phones &amp; Accessories, Accessories, Char...</td>\n",
       "      <td>Car Charger for Bell Samsung Instinct Omnia i9...</td>\n",
       "    </tr>\n",
       "  </tbody>\n",
       "</table>\n",
       "</div>"
      ],
      "text/plain": [
       "           asin                                related  \\\n",
       "103  549980088X  {'buy_after_viewing': ['B001BRHXA6']}   \n",
       "104  5499800650                                    NaN   \n",
       "\n",
       "                                                 title  price  \\\n",
       "103  Red LED Car/Vehicle Charger for Samsung&copy; ...   3.84   \n",
       "104  Car Charger for Bell Samsung&copy; Instinct Om...   3.88   \n",
       "\n",
       "                                 salesRank  \\\n",
       "103  {'Cell Phones & Accessories': 291518}   \n",
       "104  {'Cell Phones & Accessories': 917469}   \n",
       "\n",
       "                                                 imUrl    brand  \\\n",
       "103  http://ecx.images-amazon.com/images/I/41H0DdRZ...  Samsung   \n",
       "104  http://ecx.images-amazon.com/images/I/41RgM6dR...  Samsung   \n",
       "\n",
       "                                            categories  \\\n",
       "103  [[Cell Phones & Accessories, Accessories, Char...   \n",
       "104  [[Cell Phones & Accessories, Accessories, Char...   \n",
       "\n",
       "                                           description  \n",
       "103  Portable lightweight red led car charger offer...  \n",
       "104  Car Charger for Bell Samsung Instinct Omnia i9...  "
      ]
     },
     "execution_count": 9,
     "metadata": {},
     "output_type": "execute_result"
    }
   ],
   "source": [
    "df_metadata[df_metadata['brand'] == 'Samsung'].head(2)"
   ]
  },
  {
   "cell_type": "code",
   "execution_count": 173,
   "metadata": {
    "collapsed": false
   },
   "outputs": [
    {
     "name": "stdout",
     "output_type": "stream",
     "text": [
      "346793\n",
      "346793\n"
     ]
    },
    {
     "data": {
      "text/plain": [
       "[['Cell Phones & Accessories', 'Cases', 'Basic Cases'],\n",
       " ['Cell Phones & Accessories', 'Cases', 'Basic Cases'],\n",
       " ['Cell Phones & Accessories', 'Cases', 'Basic Cases'],\n",
       " ['Cell Phones & Accessories', 'Cases', 'Basic Cases'],\n",
       " ['Cell Phones & Accessories', 'Cases', 'Basic Cases'],\n",
       " ['Cell Phones & Accessories', 'Cases', 'Basic Cases'],\n",
       " ['Cell Phones & Accessories', 'Cases', 'Basic Cases'],\n",
       " ['Cell Phones & Accessories', 'Cases', 'Basic Cases'],\n",
       " ['Cell Phones & Accessories', 'Cases', 'Basic Cases'],\n",
       " ['Cell Phones & Accessories', 'Accessories', 'Data Cables']]"
      ]
     },
     "execution_count": 173,
     "metadata": {},
     "output_type": "execute_result"
    }
   ],
   "source": [
    "cat_cell_phones = [j for i in df_metadata['categories'] for j in i if 'Cell Phones' in j]\n",
    "cat = [i[0] for i in df_metadata['categories']]\n",
    "# df_metadata['cat'] = cat\n",
    "print(len(df_metadata))\n",
    "print(len(cat))\n",
    "\n",
    "cat[:10]"
   ]
  }
 ],
 "metadata": {
  "kernelspec": {
   "display_name": "Python 3",
   "language": "python",
   "name": "python3"
  },
  "language_info": {
   "codemirror_mode": {
    "name": "ipython",
    "version": 3
   },
   "file_extension": ".py",
   "mimetype": "text/x-python",
   "name": "python",
   "nbconvert_exporter": "python",
   "pygments_lexer": "ipython3",
   "version": "3.6.0"
  }
 },
 "nbformat": 4,
 "nbformat_minor": 2
}
