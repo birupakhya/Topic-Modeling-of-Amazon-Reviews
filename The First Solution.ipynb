{
 "cells": [
  {
   "cell_type": "markdown",
   "metadata": {},
   "source": [
    "# The First Solution\n",
    "    This notebook analyses various outcomes on analyzing Amazon Reviews through Topic Modelling. Also, it proides insights on what value can be mined from this information."
   ]
  },
  {
   "cell_type": "markdown",
   "metadata": {},
   "source": [
    "### Reading the Data\n",
    "     This piece of code unzips the package and parses the json document as a pandas dataframe."
   ]
  },
  {
   "cell_type": "code",
   "execution_count": 10,
   "metadata": {},
   "outputs": [],
   "source": [
    "data_dir = 'C:/Users/100048966/Documents/Citizen Data Science_C4/Code/Topic Modeling/'"
   ]
  },
  {
   "cell_type": "code",
   "execution_count": 3,
   "metadata": {
    "collapsed": true
   },
   "outputs": [],
   "source": [
    "import json\n",
    "import os\n",
    "import glob\n",
    "import numpy as np\n",
    "import random"
   ]
  },
  {
   "cell_type": "code",
   "execution_count": 29,
   "metadata": {
    "collapsed": true
   },
   "outputs": [],
   "source": [
    "import pandas as pd\n",
    "import gzip\n",
    "\n",
    "def parse(path):\n",
    "    g = gzip.open(path, 'rb')\n",
    "    for l in g:\n",
    "        yield eval(l)\n",
    "\n",
    "def getDF(path):\n",
    "    i = 0\n",
    "    df = {}\n",
    "    for d in parse(path):\n",
    "        df[i] = d\n",
    "        i += 1\n",
    "    return pd.DataFrame.from_dict(df, orient='index')"
   ]
  },
  {
   "cell_type": "code",
   "execution_count": 11,
   "metadata": {},
   "outputs": [],
   "source": [
    "df_reviews = getDF(data_dir+'reviews_Cell_Phones_and_Accessories_5.json.gz')\n",
    "df_metadata = getDF(data_dir+'samsung_metadata.json.gz')"
   ]
  },
  {
   "cell_type": "markdown",
   "metadata": {},
   "source": [
    "## Selecting the Item\n",
    "    We need to be able to select the item to analyse. Through this flow the item and further details about it can be viewed."
   ]
  },
  {
   "cell_type": "code",
   "execution_count": 15,
   "metadata": {},
   "outputs": [
    {
     "data": {
      "text/html": [
       "<div>\n",
       "<style>\n",
       "    .dataframe thead tr:only-child th {\n",
       "        text-align: right;\n",
       "    }\n",
       "\n",
       "    .dataframe thead th {\n",
       "        text-align: left;\n",
       "    }\n",
       "\n",
       "    .dataframe tbody tr th {\n",
       "        vertical-align: top;\n",
       "    }\n",
       "</style>\n",
       "<table border=\"1\" class=\"dataframe\">\n",
       "  <thead>\n",
       "    <tr style=\"text-align: right;\">\n",
       "      <th></th>\n",
       "      <th>reviewerID</th>\n",
       "      <th>asin</th>\n",
       "      <th>reviewerName</th>\n",
       "      <th>helpful</th>\n",
       "      <th>reviewText</th>\n",
       "      <th>overall</th>\n",
       "      <th>summary</th>\n",
       "      <th>unixReviewTime</th>\n",
       "      <th>reviewTime</th>\n",
       "    </tr>\n",
       "  </thead>\n",
       "  <tbody>\n",
       "    <tr>\n",
       "      <th>0</th>\n",
       "      <td>A30TL5EWN6DFXT</td>\n",
       "      <td>120401325X</td>\n",
       "      <td>christina</td>\n",
       "      <td>[0, 0]</td>\n",
       "      <td>They look good and stick good! I just don't li...</td>\n",
       "      <td>4.0</td>\n",
       "      <td>Looks Good</td>\n",
       "      <td>1400630400</td>\n",
       "      <td>05 21, 2014</td>\n",
       "    </tr>\n",
       "    <tr>\n",
       "      <th>1</th>\n",
       "      <td>ASY55RVNIL0UD</td>\n",
       "      <td>120401325X</td>\n",
       "      <td>emily l.</td>\n",
       "      <td>[0, 0]</td>\n",
       "      <td>These stickers work like the review says they ...</td>\n",
       "      <td>5.0</td>\n",
       "      <td>Really great product.</td>\n",
       "      <td>1389657600</td>\n",
       "      <td>01 14, 2014</td>\n",
       "    </tr>\n",
       "    <tr>\n",
       "      <th>2</th>\n",
       "      <td>A2TMXE2AFO7ONB</td>\n",
       "      <td>120401325X</td>\n",
       "      <td>Erica</td>\n",
       "      <td>[0, 0]</td>\n",
       "      <td>These are awesome and make my phone look so st...</td>\n",
       "      <td>5.0</td>\n",
       "      <td>LOVE LOVE LOVE</td>\n",
       "      <td>1403740800</td>\n",
       "      <td>06 26, 2014</td>\n",
       "    </tr>\n",
       "    <tr>\n",
       "      <th>3</th>\n",
       "      <td>AWJ0WZQYMYFQ4</td>\n",
       "      <td>120401325X</td>\n",
       "      <td>JM</td>\n",
       "      <td>[4, 4]</td>\n",
       "      <td>Item arrived in great time and was in perfect ...</td>\n",
       "      <td>4.0</td>\n",
       "      <td>Cute!</td>\n",
       "      <td>1382313600</td>\n",
       "      <td>10 21, 2013</td>\n",
       "    </tr>\n",
       "    <tr>\n",
       "      <th>4</th>\n",
       "      <td>ATX7CZYFXI1KW</td>\n",
       "      <td>120401325X</td>\n",
       "      <td>patrice m rogoza</td>\n",
       "      <td>[2, 3]</td>\n",
       "      <td>awesome! stays on, and looks great. can be use...</td>\n",
       "      <td>5.0</td>\n",
       "      <td>leopard home button sticker for iphone 4s</td>\n",
       "      <td>1359849600</td>\n",
       "      <td>02 3, 2013</td>\n",
       "    </tr>\n",
       "  </tbody>\n",
       "</table>\n",
       "</div>"
      ],
      "text/plain": [
       "       reviewerID        asin      reviewerName helpful  \\\n",
       "0  A30TL5EWN6DFXT  120401325X         christina  [0, 0]   \n",
       "1   ASY55RVNIL0UD  120401325X          emily l.  [0, 0]   \n",
       "2  A2TMXE2AFO7ONB  120401325X             Erica  [0, 0]   \n",
       "3   AWJ0WZQYMYFQ4  120401325X                JM  [4, 4]   \n",
       "4   ATX7CZYFXI1KW  120401325X  patrice m rogoza  [2, 3]   \n",
       "\n",
       "                                          reviewText  overall  \\\n",
       "0  They look good and stick good! I just don't li...      4.0   \n",
       "1  These stickers work like the review says they ...      5.0   \n",
       "2  These are awesome and make my phone look so st...      5.0   \n",
       "3  Item arrived in great time and was in perfect ...      4.0   \n",
       "4  awesome! stays on, and looks great. can be use...      5.0   \n",
       "\n",
       "                                     summary  unixReviewTime   reviewTime  \n",
       "0                                 Looks Good      1400630400  05 21, 2014  \n",
       "1                      Really great product.      1389657600  01 14, 2014  \n",
       "2                             LOVE LOVE LOVE      1403740800  06 26, 2014  \n",
       "3                                      Cute!      1382313600  10 21, 2013  \n",
       "4  leopard home button sticker for iphone 4s      1359849600   02 3, 2013  "
      ]
     },
     "execution_count": 15,
     "metadata": {},
     "output_type": "execute_result"
    }
   ],
   "source": [
    "df_reviews.head()"
   ]
  },
  {
   "cell_type": "code",
   "execution_count": 16,
   "metadata": {},
   "outputs": [
    {
     "data": {
      "text/html": [
       "<div>\n",
       "<style>\n",
       "    .dataframe thead tr:only-child th {\n",
       "        text-align: right;\n",
       "    }\n",
       "\n",
       "    .dataframe thead th {\n",
       "        text-align: left;\n",
       "    }\n",
       "\n",
       "    .dataframe tbody tr th {\n",
       "        vertical-align: top;\n",
       "    }\n",
       "</style>\n",
       "<table border=\"1\" class=\"dataframe\">\n",
       "  <thead>\n",
       "    <tr style=\"text-align: right;\">\n",
       "      <th></th>\n",
       "      <th>asin</th>\n",
       "      <th>related</th>\n",
       "      <th>title</th>\n",
       "      <th>price</th>\n",
       "      <th>salesRank</th>\n",
       "      <th>imUrl</th>\n",
       "      <th>brand</th>\n",
       "      <th>categories</th>\n",
       "      <th>description</th>\n",
       "    </tr>\n",
       "  </thead>\n",
       "  <tbody>\n",
       "    <tr>\n",
       "      <th>0</th>\n",
       "      <td>1466736038</td>\n",
       "      <td>{'also_viewed': ['B008OK8IIY', 'B008MC3N34', '...</td>\n",
       "      <td>Samsung Galaxy S III I747 New Unlocked 16GB - ...</td>\n",
       "      <td>284.49</td>\n",
       "      <td>{'Cell Phones &amp; Accessories': 56138}</td>\n",
       "      <td>http://ecx.images-amazon.com/images/I/51hAD8gs...</td>\n",
       "      <td></td>\n",
       "      <td>[[Cell Phones &amp; Accessories, Cell Phones, Unlo...</td>\n",
       "      <td>Brand New Unlocked Camera: 8 MP, 3264x2448 pix...</td>\n",
       "    </tr>\n",
       "    <tr>\n",
       "      <th>1</th>\n",
       "      <td>1621911888</td>\n",
       "      <td>{'also_bought': ['B007N9L140', 'B007C0CRDO', '...</td>\n",
       "      <td>Samsung Galaxy S Advance I9070 8Gb White WiFi ...</td>\n",
       "      <td>239.99</td>\n",
       "      <td>{'Cell Phones &amp; Accessories': 209436}</td>\n",
       "      <td>http://ecx.images-amazon.com/images/I/41oafU78...</td>\n",
       "      <td>NaN</td>\n",
       "      <td>[[Cell Phones &amp; Accessories, Cell Phones, Unlo...</td>\n",
       "      <td>The Samsung Galaxy S Advance I9070 offers its ...</td>\n",
       "    </tr>\n",
       "    <tr>\n",
       "      <th>2</th>\n",
       "      <td>9043435856</td>\n",
       "      <td>{'also_viewed': ['B00B4HO91O', 'B000RW7IBK', '...</td>\n",
       "      <td>HTC Dash / S620 / S621 (Excalibur) Black Windo...</td>\n",
       "      <td>68.49</td>\n",
       "      <td>{'Cell Phones &amp; Accessories': 89187}</td>\n",
       "      <td>http://ecx.images-amazon.com/images/I/41%2B2y5...</td>\n",
       "      <td>NaN</td>\n",
       "      <td>[[Cell Phones &amp; Accessories, Cell Phones, Unlo...</td>\n",
       "      <td>Exclusive to T-Mobile, the quad-band T-Mobile ...</td>\n",
       "    </tr>\n",
       "    <tr>\n",
       "      <th>3</th>\n",
       "      <td>B00006LIQC</td>\n",
       "      <td>NaN</td>\n",
       "      <td>Motorola V66 Phone (T-Mobile)</td>\n",
       "      <td>NaN</td>\n",
       "      <td>{'Cell Phones &amp; Accessories': 1196150}</td>\n",
       "      <td>http://ecx.images-amazon.com/images/I/41BNBQHN...</td>\n",
       "      <td>NaN</td>\n",
       "      <td>[[Cell Phones &amp; Accessories, Cell Phones, Cont...</td>\n",
       "      <td>OverviewCompatible with T-Mobile cell phone se...</td>\n",
       "    </tr>\n",
       "    <tr>\n",
       "      <th>4</th>\n",
       "      <td>B00007E9TR</td>\n",
       "      <td>NaN</td>\n",
       "      <td>PCS Phone Samsung I330 (Sprint)</td>\n",
       "      <td>NaN</td>\n",
       "      <td>{'Cell Phones &amp; Accessories': 2225275}</td>\n",
       "      <td>http://ecx.images-amazon.com/images/I/412JS9GK...</td>\n",
       "      <td>NaN</td>\n",
       "      <td>[[Cell Phones &amp; Accessories, Cell Phones, Cont...</td>\n",
       "      <td>The Samsung i330 is one of the standouts emerg...</td>\n",
       "    </tr>\n",
       "  </tbody>\n",
       "</table>\n",
       "</div>"
      ],
      "text/plain": [
       "         asin                                            related  \\\n",
       "0  1466736038  {'also_viewed': ['B008OK8IIY', 'B008MC3N34', '...   \n",
       "1  1621911888  {'also_bought': ['B007N9L140', 'B007C0CRDO', '...   \n",
       "2  9043435856  {'also_viewed': ['B00B4HO91O', 'B000RW7IBK', '...   \n",
       "3  B00006LIQC                                                NaN   \n",
       "4  B00007E9TR                                                NaN   \n",
       "\n",
       "                                               title   price  \\\n",
       "0  Samsung Galaxy S III I747 New Unlocked 16GB - ...  284.49   \n",
       "1  Samsung Galaxy S Advance I9070 8Gb White WiFi ...  239.99   \n",
       "2  HTC Dash / S620 / S621 (Excalibur) Black Windo...   68.49   \n",
       "3                      Motorola V66 Phone (T-Mobile)     NaN   \n",
       "4                    PCS Phone Samsung I330 (Sprint)     NaN   \n",
       "\n",
       "                                salesRank  \\\n",
       "0    {'Cell Phones & Accessories': 56138}   \n",
       "1   {'Cell Phones & Accessories': 209436}   \n",
       "2    {'Cell Phones & Accessories': 89187}   \n",
       "3  {'Cell Phones & Accessories': 1196150}   \n",
       "4  {'Cell Phones & Accessories': 2225275}   \n",
       "\n",
       "                                               imUrl brand  \\\n",
       "0  http://ecx.images-amazon.com/images/I/51hAD8gs...         \n",
       "1  http://ecx.images-amazon.com/images/I/41oafU78...   NaN   \n",
       "2  http://ecx.images-amazon.com/images/I/41%2B2y5...   NaN   \n",
       "3  http://ecx.images-amazon.com/images/I/41BNBQHN...   NaN   \n",
       "4  http://ecx.images-amazon.com/images/I/412JS9GK...   NaN   \n",
       "\n",
       "                                          categories  \\\n",
       "0  [[Cell Phones & Accessories, Cell Phones, Unlo...   \n",
       "1  [[Cell Phones & Accessories, Cell Phones, Unlo...   \n",
       "2  [[Cell Phones & Accessories, Cell Phones, Unlo...   \n",
       "3  [[Cell Phones & Accessories, Cell Phones, Cont...   \n",
       "4  [[Cell Phones & Accessories, Cell Phones, Cont...   \n",
       "\n",
       "                                         description  \n",
       "0  Brand New Unlocked Camera: 8 MP, 3264x2448 pix...  \n",
       "1  The Samsung Galaxy S Advance I9070 offers its ...  \n",
       "2  Exclusive to T-Mobile, the quad-band T-Mobile ...  \n",
       "3  OverviewCompatible with T-Mobile cell phone se...  \n",
       "4  The Samsung i330 is one of the standouts emerg...  "
      ]
     },
     "execution_count": 16,
     "metadata": {},
     "output_type": "execute_result"
    }
   ],
   "source": [
    "df_metadata.head()"
   ]
  },
  {
   "cell_type": "code",
   "execution_count": 26,
   "metadata": {},
   "outputs": [
    {
     "data": {
      "text/html": [
       "<div>\n",
       "<style>\n",
       "    .dataframe thead tr:only-child th {\n",
       "        text-align: right;\n",
       "    }\n",
       "\n",
       "    .dataframe thead th {\n",
       "        text-align: left;\n",
       "    }\n",
       "\n",
       "    .dataframe tbody tr th {\n",
       "        vertical-align: top;\n",
       "    }\n",
       "</style>\n",
       "<table border=\"1\" class=\"dataframe\">\n",
       "  <thead>\n",
       "    <tr style=\"text-align: right;\">\n",
       "      <th></th>\n",
       "      <th>reviewerID</th>\n",
       "      <th>asin</th>\n",
       "      <th>reviewerName</th>\n",
       "      <th>helpful</th>\n",
       "      <th>reviewText</th>\n",
       "      <th>overall</th>\n",
       "      <th>summary</th>\n",
       "      <th>unixReviewTime</th>\n",
       "      <th>reviewTime</th>\n",
       "      <th>related</th>\n",
       "      <th>title</th>\n",
       "      <th>price</th>\n",
       "      <th>salesRank</th>\n",
       "      <th>imUrl</th>\n",
       "      <th>brand</th>\n",
       "      <th>categories</th>\n",
       "      <th>description</th>\n",
       "    </tr>\n",
       "  </thead>\n",
       "  <tbody>\n",
       "    <tr>\n",
       "      <th>0</th>\n",
       "      <td>AHGGSY182427</td>\n",
       "      <td>B0000SX3BK</td>\n",
       "      <td>Dave English</td>\n",
       "      <td>[8, 10]</td>\n",
       "      <td>I recently moved to Phoenix, Arizona, and thou...</td>\n",
       "      <td>1.0</td>\n",
       "      <td>Nextel is a mess</td>\n",
       "      <td>1092268800</td>\n",
       "      <td>08 12, 2004</td>\n",
       "      <td>{'also_viewed': ['B0041LR5TS', 'B0011TSQQ4', '...</td>\n",
       "      <td>Motorola i730 Phone (Nextel)</td>\n",
       "      <td>NaN</td>\n",
       "      <td>{'Cell Phones &amp; Accessories': 185224}</td>\n",
       "      <td>http://ecx.images-amazon.com/images/I/31G6XSG4...</td>\n",
       "      <td>NaN</td>\n",
       "      <td>[[Cell Phones &amp; Accessories, Cell Phones, Unlo...</td>\n",
       "      <td>NaN</td>\n",
       "    </tr>\n",
       "    <tr>\n",
       "      <th>1</th>\n",
       "      <td>A1KD8NJPZ01R37</td>\n",
       "      <td>B0000SX3BK</td>\n",
       "      <td>doppelganger</td>\n",
       "      <td>[2, 6]</td>\n",
       "      <td>And it was pretty much worth it (if you sign t...</td>\n",
       "      <td>5.0</td>\n",
       "      <td>swapped an i95cl for the .06 slimmer chassis o...</td>\n",
       "      <td>1070668800</td>\n",
       "      <td>12 6, 2003</td>\n",
       "      <td>{'also_viewed': ['B0041LR5TS', 'B0011TSQQ4', '...</td>\n",
       "      <td>Motorola i730 Phone (Nextel)</td>\n",
       "      <td>NaN</td>\n",
       "      <td>{'Cell Phones &amp; Accessories': 185224}</td>\n",
       "      <td>http://ecx.images-amazon.com/images/I/31G6XSG4...</td>\n",
       "      <td>NaN</td>\n",
       "      <td>[[Cell Phones &amp; Accessories, Cell Phones, Unlo...</td>\n",
       "      <td>NaN</td>\n",
       "    </tr>\n",
       "    <tr>\n",
       "      <th>2</th>\n",
       "      <td>A2MLBUX9REGYUI</td>\n",
       "      <td>B0000SX3BK</td>\n",
       "      <td>Dtho</td>\n",
       "      <td>[4, 5]</td>\n",
       "      <td>I've glanced at a few reviews and looked at th...</td>\n",
       "      <td>5.0</td>\n",
       "      <td>Exceptional Quality</td>\n",
       "      <td>1094342400</td>\n",
       "      <td>09 5, 2004</td>\n",
       "      <td>{'also_viewed': ['B0041LR5TS', 'B0011TSQQ4', '...</td>\n",
       "      <td>Motorola i730 Phone (Nextel)</td>\n",
       "      <td>NaN</td>\n",
       "      <td>{'Cell Phones &amp; Accessories': 185224}</td>\n",
       "      <td>http://ecx.images-amazon.com/images/I/31G6XSG4...</td>\n",
       "      <td>NaN</td>\n",
       "      <td>[[Cell Phones &amp; Accessories, Cell Phones, Unlo...</td>\n",
       "      <td>NaN</td>\n",
       "    </tr>\n",
       "    <tr>\n",
       "      <th>3</th>\n",
       "      <td>A5JLAU2ARJ0BO</td>\n",
       "      <td>B0000SX3BK</td>\n",
       "      <td>Gadgester \"No Time, No Money\"</td>\n",
       "      <td>[5, 5]</td>\n",
       "      <td>Other than the high initial cost (I got it bef...</td>\n",
       "      <td>5.0</td>\n",
       "      <td>very happy</td>\n",
       "      <td>1074729600</td>\n",
       "      <td>01 22, 2004</td>\n",
       "      <td>{'also_viewed': ['B0041LR5TS', 'B0011TSQQ4', '...</td>\n",
       "      <td>Motorola i730 Phone (Nextel)</td>\n",
       "      <td>NaN</td>\n",
       "      <td>{'Cell Phones &amp; Accessories': 185224}</td>\n",
       "      <td>http://ecx.images-amazon.com/images/I/31G6XSG4...</td>\n",
       "      <td>NaN</td>\n",
       "      <td>[[Cell Phones &amp; Accessories, Cell Phones, Unlo...</td>\n",
       "      <td>NaN</td>\n",
       "    </tr>\n",
       "    <tr>\n",
       "      <th>4</th>\n",
       "      <td>AGZ8HQO485IL8</td>\n",
       "      <td>B0000SX3BK</td>\n",
       "      <td>J. Decelles</td>\n",
       "      <td>[3, 6]</td>\n",
       "      <td>I don't own this phone. I own the cheaper Moto...</td>\n",
       "      <td>3.0</td>\n",
       "      <td>Not a bad phone, but the cheaper model gets be...</td>\n",
       "      <td>1113523200</td>\n",
       "      <td>04 15, 2005</td>\n",
       "      <td>{'also_viewed': ['B0041LR5TS', 'B0011TSQQ4', '...</td>\n",
       "      <td>Motorola i730 Phone (Nextel)</td>\n",
       "      <td>NaN</td>\n",
       "      <td>{'Cell Phones &amp; Accessories': 185224}</td>\n",
       "      <td>http://ecx.images-amazon.com/images/I/31G6XSG4...</td>\n",
       "      <td>NaN</td>\n",
       "      <td>[[Cell Phones &amp; Accessories, Cell Phones, Unlo...</td>\n",
       "      <td>NaN</td>\n",
       "    </tr>\n",
       "  </tbody>\n",
       "</table>\n",
       "</div>"
      ],
      "text/plain": [
       "       reviewerID        asin                   reviewerName  helpful  \\\n",
       "0    AHGGSY182427  B0000SX3BK                   Dave English  [8, 10]   \n",
       "1  A1KD8NJPZ01R37  B0000SX3BK                   doppelganger   [2, 6]   \n",
       "2  A2MLBUX9REGYUI  B0000SX3BK                           Dtho   [4, 5]   \n",
       "3   A5JLAU2ARJ0BO  B0000SX3BK  Gadgester \"No Time, No Money\"   [5, 5]   \n",
       "4   AGZ8HQO485IL8  B0000SX3BK                    J. Decelles   [3, 6]   \n",
       "\n",
       "                                          reviewText  overall  \\\n",
       "0  I recently moved to Phoenix, Arizona, and thou...      1.0   \n",
       "1  And it was pretty much worth it (if you sign t...      5.0   \n",
       "2  I've glanced at a few reviews and looked at th...      5.0   \n",
       "3  Other than the high initial cost (I got it bef...      5.0   \n",
       "4  I don't own this phone. I own the cheaper Moto...      3.0   \n",
       "\n",
       "                                             summary  unixReviewTime  \\\n",
       "0                                   Nextel is a mess      1092268800   \n",
       "1  swapped an i95cl for the .06 slimmer chassis o...      1070668800   \n",
       "2                                Exceptional Quality      1094342400   \n",
       "3                                         very happy      1074729600   \n",
       "4  Not a bad phone, but the cheaper model gets be...      1113523200   \n",
       "\n",
       "    reviewTime                                            related  \\\n",
       "0  08 12, 2004  {'also_viewed': ['B0041LR5TS', 'B0011TSQQ4', '...   \n",
       "1   12 6, 2003  {'also_viewed': ['B0041LR5TS', 'B0011TSQQ4', '...   \n",
       "2   09 5, 2004  {'also_viewed': ['B0041LR5TS', 'B0011TSQQ4', '...   \n",
       "3  01 22, 2004  {'also_viewed': ['B0041LR5TS', 'B0011TSQQ4', '...   \n",
       "4  04 15, 2005  {'also_viewed': ['B0041LR5TS', 'B0011TSQQ4', '...   \n",
       "\n",
       "                          title  price                              salesRank  \\\n",
       "0  Motorola i730 Phone (Nextel)    NaN  {'Cell Phones & Accessories': 185224}   \n",
       "1  Motorola i730 Phone (Nextel)    NaN  {'Cell Phones & Accessories': 185224}   \n",
       "2  Motorola i730 Phone (Nextel)    NaN  {'Cell Phones & Accessories': 185224}   \n",
       "3  Motorola i730 Phone (Nextel)    NaN  {'Cell Phones & Accessories': 185224}   \n",
       "4  Motorola i730 Phone (Nextel)    NaN  {'Cell Phones & Accessories': 185224}   \n",
       "\n",
       "                                               imUrl brand  \\\n",
       "0  http://ecx.images-amazon.com/images/I/31G6XSG4...   NaN   \n",
       "1  http://ecx.images-amazon.com/images/I/31G6XSG4...   NaN   \n",
       "2  http://ecx.images-amazon.com/images/I/31G6XSG4...   NaN   \n",
       "3  http://ecx.images-amazon.com/images/I/31G6XSG4...   NaN   \n",
       "4  http://ecx.images-amazon.com/images/I/31G6XSG4...   NaN   \n",
       "\n",
       "                                          categories description  \n",
       "0  [[Cell Phones & Accessories, Cell Phones, Unlo...         NaN  \n",
       "1  [[Cell Phones & Accessories, Cell Phones, Unlo...         NaN  \n",
       "2  [[Cell Phones & Accessories, Cell Phones, Unlo...         NaN  \n",
       "3  [[Cell Phones & Accessories, Cell Phones, Unlo...         NaN  \n",
       "4  [[Cell Phones & Accessories, Cell Phones, Unlo...         NaN  "
      ]
     },
     "execution_count": 26,
     "metadata": {},
     "output_type": "execute_result"
    }
   ],
   "source": [
    "df_merged = pd.merge(df_reviews, df_metadata, how='inner', on='asin' )\n",
    "df_merged.head()"
   ]
  },
  {
   "cell_type": "markdown",
   "metadata": {},
   "source": [
    "We can be able to view the names of all items present in the file, hence a new data frame is created."
   ]
  },
  {
   "cell_type": "code",
   "execution_count": 17,
   "metadata": {},
   "outputs": [
    {
     "data": {
      "text/html": [
       "<div>\n",
       "<style>\n",
       "    .dataframe thead tr:only-child th {\n",
       "        text-align: right;\n",
       "    }\n",
       "\n",
       "    .dataframe thead th {\n",
       "        text-align: left;\n",
       "    }\n",
       "\n",
       "    .dataframe tbody tr th {\n",
       "        vertical-align: top;\n",
       "    }\n",
       "</style>\n",
       "<table border=\"1\" class=\"dataframe\">\n",
       "  <thead>\n",
       "    <tr style=\"text-align: right;\">\n",
       "      <th></th>\n",
       "      <th>asin</th>\n",
       "      <th>title</th>\n",
       "    </tr>\n",
       "  </thead>\n",
       "  <tbody>\n",
       "    <tr>\n",
       "      <th>0</th>\n",
       "      <td>1466736038</td>\n",
       "      <td>Samsung Galaxy S III I747 New Unlocked 16GB - ...</td>\n",
       "    </tr>\n",
       "    <tr>\n",
       "      <th>1</th>\n",
       "      <td>1621911888</td>\n",
       "      <td>Samsung Galaxy S Advance I9070 8Gb White WiFi ...</td>\n",
       "    </tr>\n",
       "    <tr>\n",
       "      <th>2</th>\n",
       "      <td>9043435856</td>\n",
       "      <td>HTC Dash / S620 / S621 (Excalibur) Black Windo...</td>\n",
       "    </tr>\n",
       "    <tr>\n",
       "      <th>3</th>\n",
       "      <td>B00006LIQC</td>\n",
       "      <td>Motorola V66 Phone (T-Mobile)</td>\n",
       "    </tr>\n",
       "    <tr>\n",
       "      <th>4</th>\n",
       "      <td>B00007E9TR</td>\n",
       "      <td>PCS Phone Samsung I330 (Sprint)</td>\n",
       "    </tr>\n",
       "  </tbody>\n",
       "</table>\n",
       "</div>"
      ],
      "text/plain": [
       "         asin                                              title\n",
       "0  1466736038  Samsung Galaxy S III I747 New Unlocked 16GB - ...\n",
       "1  1621911888  Samsung Galaxy S Advance I9070 8Gb White WiFi ...\n",
       "2  9043435856  HTC Dash / S620 / S621 (Excalibur) Black Windo...\n",
       "3  B00006LIQC                      Motorola V66 Phone (T-Mobile)\n",
       "4  B00007E9TR                    PCS Phone Samsung I330 (Sprint)"
      ]
     },
     "execution_count": 17,
     "metadata": {},
     "output_type": "execute_result"
    }
   ],
   "source": [
    "df_item_names = df_metadata.loc[:,['asin','title']]\n",
    "df_item_names.head()"
   ]
  },
  {
   "cell_type": "code",
   "execution_count": 22,
   "metadata": {},
   "outputs": [
    {
     "data": {
      "text/html": [
       "<div>\n",
       "<style>\n",
       "    .dataframe thead tr:only-child th {\n",
       "        text-align: right;\n",
       "    }\n",
       "\n",
       "    .dataframe thead th {\n",
       "        text-align: left;\n",
       "    }\n",
       "\n",
       "    .dataframe tbody tr th {\n",
       "        vertical-align: top;\n",
       "    }\n",
       "</style>\n",
       "<table border=\"1\" class=\"dataframe\">\n",
       "  <thead>\n",
       "    <tr style=\"text-align: right;\">\n",
       "      <th></th>\n",
       "      <th>title</th>\n",
       "    </tr>\n",
       "  </thead>\n",
       "  <tbody>\n",
       "    <tr>\n",
       "      <th>0</th>\n",
       "      <td>Samsung Galaxy S III I747 New Unlocked 16GB - ...</td>\n",
       "    </tr>\n",
       "  </tbody>\n",
       "</table>\n",
       "</div>"
      ],
      "text/plain": [
       "                                               title\n",
       "0  Samsung Galaxy S III I747 New Unlocked 16GB - ..."
      ]
     },
     "execution_count": 22,
     "metadata": {},
     "output_type": "execute_result"
    }
   ],
   "source": [
    "df_item_names.loc[df_item_names.asin.isin(['1466736038']),['title']]"
   ]
  },
  {
   "cell_type": "code",
   "execution_count": 19,
   "metadata": {
    "collapsed": true
   },
   "outputs": [],
   "source": [
    "def df_item(asin):\n",
    "    '''This function intakes an item ID or asin and returns the data frame of all the reviews of that item.'''\n",
    "    reviewed_item = df_reviews.loc[df_reviews.asin.isin([asin]),['reviewText']]\n",
    "    return reviewed_item"
   ]
  },
  {
   "cell_type": "code",
   "execution_count": 28,
   "metadata": {},
   "outputs": [
    {
     "data": {
      "text/html": [
       "<div>\n",
       "<style>\n",
       "    .dataframe thead tr:only-child th {\n",
       "        text-align: right;\n",
       "    }\n",
       "\n",
       "    .dataframe thead th {\n",
       "        text-align: left;\n",
       "    }\n",
       "\n",
       "    .dataframe tbody tr th {\n",
       "        vertical-align: top;\n",
       "    }\n",
       "</style>\n",
       "<table border=\"1\" class=\"dataframe\">\n",
       "  <thead>\n",
       "    <tr style=\"text-align: right;\">\n",
       "      <th></th>\n",
       "      <th>reviewText</th>\n",
       "    </tr>\n",
       "  </thead>\n",
       "  <tbody>\n",
       "    <tr>\n",
       "      <th>528</th>\n",
       "      <td>I recently moved to Phoenix, Arizona, and thou...</td>\n",
       "    </tr>\n",
       "    <tr>\n",
       "      <th>529</th>\n",
       "      <td>And it was pretty much worth it (if you sign t...</td>\n",
       "    </tr>\n",
       "    <tr>\n",
       "      <th>530</th>\n",
       "      <td>I've glanced at a few reviews and looked at th...</td>\n",
       "    </tr>\n",
       "    <tr>\n",
       "      <th>531</th>\n",
       "      <td>Other than the high initial cost (I got it bef...</td>\n",
       "    </tr>\n",
       "    <tr>\n",
       "      <th>532</th>\n",
       "      <td>I don't own this phone. I own the cheaper Moto...</td>\n",
       "    </tr>\n",
       "    <tr>\n",
       "      <th>533</th>\n",
       "      <td>I have to say that this is a great phone and t...</td>\n",
       "    </tr>\n",
       "  </tbody>\n",
       "</table>\n",
       "</div>"
      ],
      "text/plain": [
       "                                            reviewText\n",
       "528  I recently moved to Phoenix, Arizona, and thou...\n",
       "529  And it was pretty much worth it (if you sign t...\n",
       "530  I've glanced at a few reviews and looked at th...\n",
       "531  Other than the high initial cost (I got it bef...\n",
       "532  I don't own this phone. I own the cheaper Moto...\n",
       "533  I have to say that this is a great phone and t..."
      ]
     },
     "execution_count": 28,
     "metadata": {},
     "output_type": "execute_result"
    }
   ],
   "source": [
    "df_item('B0000SX3BK')"
   ]
  },
  {
   "cell_type": "markdown",
   "metadata": {},
   "source": [
    "### Functions to Extract Nouns\n",
    "    By using the pos tagger in the NLTK we can extract the nouns from a given sentence/ review."
   ]
  },
  {
   "cell_type": "code",
   "execution_count": 34,
   "metadata": {
    "collapsed": true
   },
   "outputs": [],
   "source": [
    "import nltk as nt\n",
    "noun_tags = [\"NN\",\"NNP\",\"NNS\",\"POS\",\"WP\"] #\"PRP$\" , \"PRP\", removing proper nouns"
   ]
  },
  {
   "cell_type": "code",
   "execution_count": 35,
   "metadata": {
    "collapsed": true
   },
   "outputs": [],
   "source": [
    "def tags(sentence):\n",
    "    '''Takes a sentence and returns an array of tags'''\n",
    "    array_words = nt.word_tokenize(sentence)\n",
    "    tags = nt.pos_tag(array_words)\n",
    "    return tags"
   ]
  },
  {
   "cell_type": "code",
   "execution_count": 36,
   "metadata": {
    "collapsed": true
   },
   "outputs": [],
   "source": [
    "def noun_words(review):\n",
    "    '''Takes an array of sentence and returns a numpy array of nouns for each sentence'''\n",
    "    nouns =[];\n",
    "    all_tuples = tags(review)\n",
    "    for one in all_tuples:\n",
    "        for each in noun_tags:\n",
    "            if(each == one[1]):\n",
    "                nouns.append(one[0])\n",
    "    return nouns"
   ]
  },
  {
   "cell_type": "code",
   "execution_count": 37,
   "metadata": {
    "collapsed": true
   },
   "outputs": [],
   "source": [
    "def nouns_only(corpus):\n",
    "    '''This takes an array of sentences and returns a numpy array of nouns for each sentence'''\n",
    "    total_nouns = []\n",
    "    for each in corpus:\n",
    "        total_nouns.append(noun_words(each))\n",
    "    return total_nouns"
   ]
  },
  {
   "cell_type": "markdown",
   "metadata": {},
   "source": [
    "## Creating Lda Model using GENSIM\n",
    "\n",
    "This piece of code creates a document term matrix that can further be used to build LDA models.\n",
    "\n",
    "Testing for complete reviews on the same item."
   ]
  },
  {
   "cell_type": "code",
   "execution_count": 38,
   "metadata": {},
   "outputs": [
    {
     "name": "stderr",
     "output_type": "stream",
     "text": [
      "C:\\Users\\100048966\\AppData\\Local\\Continuum\\anaconda3\\lib\\site-packages\\gensim\\utils.py:865: UserWarning: detected Windows; aliasing chunkize to chunkize_serial\n",
      "  warnings.warn(\"detected Windows; aliasing chunkize to chunkize_serial\")\n"
     ]
    }
   ],
   "source": [
    "import gensim\n",
    "from gensim import corpora\n",
    "\n",
    "def lda_model(noun_array,n,k):\n",
    "    '''This takes in a numpy array of nounsnumber of topics and number of words in each topic and returns the ldamodel. \n",
    "        Number of passes is hardcoded to 50'''\n",
    "    # Creating the term dictionary of our corpus, where every unique term is assigned an index. \n",
    "    dictionary = corpora.Dictionary(noun_array)\n",
    "    # Converting list of documents (corpus) into Document Term Matrix using dictionary prepared above.\n",
    "    doc_term_matrix = [dictionary.doc2bow(each) for each in noun_array]\n",
    "    # Creating the object for LDA model using gensim library\n",
    "    Lda = gensim.models.ldamodel.LdaModel\n",
    "    # Running and Trainign LDA model on the document term matrix.\n",
    "    ldamodel = Lda(doc_term_matrix, num_topics=n, id2word = dictionary, passes=50)\n",
    "    \n",
    "    return ldamodel"
   ]
  },
  {
   "cell_type": "markdown",
   "metadata": {},
   "source": [
    "Forming a new data frame for the reviews of a selected items"
   ]
  },
  {
   "cell_type": "code",
   "execution_count": 30,
   "metadata": {
    "collapsed": true
   },
   "outputs": [],
   "source": [
    "'''Creating a dataframe of items with required item reviews'''\n",
    "reviewed_item = df_item('B0000SX3BK')\n",
    "final_corp = reviewed_item['reviewText']"
   ]
  },
  {
   "cell_type": "code",
   "execution_count": 31,
   "metadata": {},
   "outputs": [
    {
     "data": {
      "text/plain": [
       "528    I recently moved to Phoenix, Arizona, and thou...\n",
       "529    And it was pretty much worth it (if you sign t...\n",
       "530    I've glanced at a few reviews and looked at th...\n",
       "531    Other than the high initial cost (I got it bef...\n",
       "532    I don't own this phone. I own the cheaper Moto...\n",
       "Name: reviewText, dtype: object"
      ]
     },
     "execution_count": 31,
     "metadata": {},
     "output_type": "execute_result"
    }
   ],
   "source": [
    "final_corp.head()"
   ]
  },
  {
   "cell_type": "markdown",
   "metadata": {},
   "source": [
    "## Extracting only Nouns and various forms of nouns\n",
    "Nouns were extracted, and proper nouns are not considered (I,we , them, they, etc)"
   ]
  },
  {
   "cell_type": "code",
   "execution_count": 39,
   "metadata": {},
   "outputs": [
    {
     "data": {
      "text/plain": [
       "6"
      ]
     },
     "execution_count": 39,
     "metadata": {},
     "output_type": "execute_result"
    }
   ],
   "source": [
    "total_nouns = nouns_only(final_corp)\n",
    "len(total_nouns) #This gives the frequency of the reviews"
   ]
  },
  {
   "cell_type": "code",
   "execution_count": 40,
   "metadata": {},
   "outputs": [],
   "source": [
    "first_model = lda_model(total_nouns,5,3)"
   ]
  },
  {
   "cell_type": "code",
   "execution_count": 41,
   "metadata": {},
   "outputs": [],
   "source": [
    "a =first_model.print_topics(num_topics=5, num_words=3)"
   ]
  },
  {
   "cell_type": "code",
   "execution_count": 42,
   "metadata": {},
   "outputs": [
    {
     "data": {
      "text/plain": [
       "[(0, '0.068*\"phone\" + 0.048*\"i730\" + 0.048*\"i710\"'),\n",
       " (1, '0.101*\"phone\" + 0.026*\"software\" + 0.018*\"battery\"'),\n",
       " (2, '0.041*\"Nextel\" + 0.041*\"phone\" + 0.022*\"Verizon\"'),\n",
       " (3, '0.006*\"features\" + 0.006*\"plan\" + 0.006*\"pricey\"'),\n",
       " (4, '0.051*\"Nextel\" + 0.051*\"phone\" + 0.051*\"number\"')]"
      ]
     },
     "execution_count": 42,
     "metadata": {},
     "output_type": "execute_result"
    }
   ],
   "source": [
    "a"
   ]
  },
  {
   "cell_type": "markdown",
   "metadata": {},
   "source": [
    "### Documenting the results for knowing the optimum number of reviews:\n",
    "    Now we would run the topic modelling on different number of reviews for the same item and define the optimum percentage of reviews that needs to be sent to obtain the best accurate results."
   ]
  },
  {
   "cell_type": "code",
   "execution_count": 43,
   "metadata": {
    "collapsed": true
   },
   "outputs": [],
   "source": [
    "def results_array(asin,k,l):\n",
    "    '''Takes arguments: ASIN, number of topics, number of words in each topic.\n",
    "    returns an array of number of reviews ans corresponding topics for each iteration.'''\n",
    "    results = [[],[]]\n",
    "    reviewed_item = df_item(asin)\n",
    "    final_corp = reviewed_item['reviewText']\n",
    "    print(final_corp.head())\n",
    "    total_nouns = nouns_only(final_corp)\n",
    "    print('\\ntotal reviews for this item : ',len(total_nouns))\n",
    "    \n",
    "    percent = [0.1,0.2,0.3,0.4,0.5,0.6,0.7,0.8,0.9,1]\n",
    "    val = [round(i * len(total_nouns)) for i in percent]\n",
    "\n",
    "    for each in val:\n",
    "        a = None\n",
    "        model = lda_model(total_nouns[:each],k,l)\n",
    "        a = model.print_topics(num_topics=k, num_words=l)\n",
    "        results[0].append(each),results[1].append(a)\n",
    "    \n",
    "    return results"
   ]
  },
  {
   "cell_type": "code",
   "execution_count": 44,
   "metadata": {},
   "outputs": [
    {
     "name": "stdout",
     "output_type": "stream",
     "text": [
      "Help on function results_array in module __main__:\n",
      "\n",
      "results_array(asin, k, l)\n",
      "    Takes arguments: ASIN, number of topics, number of words in each topic.\n",
      "    returns an array of number of reviews ans corresponding topics for each iteration.\n",
      "\n"
     ]
    }
   ],
   "source": [
    "help(results_array)"
   ]
  },
  {
   "cell_type": "code",
   "execution_count": 46,
   "metadata": {},
   "outputs": [
    {
     "name": "stdout",
     "output_type": "stream",
     "text": [
      "528    I recently moved to Phoenix, Arizona, and thou...\n",
      "529    And it was pretty much worth it (if you sign t...\n",
      "530    I've glanced at a few reviews and looked at th...\n",
      "531    Other than the high initial cost (I got it bef...\n",
      "532    I don't own this phone. I own the cheaper Moto...\n",
      "Name: reviewText, dtype: object\n",
      "\n",
      "total reviews for this item :  6\n"
     ]
    },
    {
     "data": {
      "text/plain": [
       "[[1, 1, 2, 2, 3, 4, 4, 5, 5, 6],\n",
       " [[(0, '0.022*\"fees\" + 0.022*\"way\"'),\n",
       "   (1, '0.022*\"number\" + 0.022*\"phone\"'),\n",
       "   (2, '0.064*\"Nextel\" + 0.064*\"phone\"'),\n",
       "   (3, '0.022*\"Alto\" + 0.022*\"taxes\"')],\n",
       "  [(0, '0.022*\"Arizona\" + 0.022*\"service.If\"'),\n",
       "   (1, '0.022*\"CA\" + 0.022*\"Cool\"'),\n",
       "   (2, '0.064*\"number\" + 0.064*\"phone\"'),\n",
       "   (3, '0.022*\"time\" + 0.022*\"closest\"')],\n",
       "  [(0, '0.063*\"phone\" + 0.063*\"number\"'),\n",
       "   (1, '0.091*\"plan\" + 0.051*\"course\"'),\n",
       "   (2, '0.018*\"phone\" + 0.018*\"features\"'),\n",
       "   (3, '0.018*\"phone\" + 0.018*\"picture\"')],\n",
       "  [(0, '0.091*\"plan\" + 0.051*\"i95\"'),\n",
       "   (1, '0.018*\"phone\" + 0.018*\"GPS\"'),\n",
       "   (2, '0.063*\"phone\" + 0.063*\"number\"'),\n",
       "   (3, '0.018*\"phone\" + 0.018*\"gain\"')],\n",
       "  [(0, '0.110*\"phone\" + 0.032*\"software\"'),\n",
       "   (1, '0.010*\"GPS\" + 0.010*\"pricey\"'),\n",
       "   (2, '0.059*\"phone\" + 0.049*\"Nextel\"'),\n",
       "   (3, '0.010*\"GPS\" + 0.010*\"features\"')],\n",
       "  [(0, '0.104*\"phone\" + 0.026*\"software\"'),\n",
       "   (1, '0.009*\"GPS\" + 0.009*\"pricey\"'),\n",
       "   (2, '0.057*\"phone\" + 0.048*\"Nextel\"'),\n",
       "   (3, '0.009*\"GPS\" + 0.009*\"course\"')],\n",
       "  [(0, '0.056*\"plan\" + 0.031*\"GPS\"'),\n",
       "   (1, '0.053*\"Nextel\" + 0.053*\"phone\"'),\n",
       "   (2, '0.009*\"Sprint\" + 0.009*\"phone\"'),\n",
       "   (3, '0.104*\"phone\" + 0.026*\"software\"')],\n",
       "  [(0, '0.007*\"cellular\" + 0.007*\"bit\"'),\n",
       "   (1, '0.047*\"plan\" + 0.026*\"GPS\"'),\n",
       "   (2, '0.007*\"bit\" + 0.007*\"Walkie-talkie\"'),\n",
       "   (3, '0.092*\"phone\" + 0.036*\"Nextel\"')],\n",
       "  [(0, '0.071*\"phone\" + 0.044*\"Nextel\"'),\n",
       "   (1, '0.007*\"Sprint\" + 0.007*\"phone\"'),\n",
       "   (2, '0.099*\"phone\" + 0.024*\"software\"'),\n",
       "   (3, '0.047*\"plan\" + 0.026*\"features\"')],\n",
       "  [(0, '0.006*\"Verizon\" + 0.006*\"phone\"'),\n",
       "   (1, '0.043*\"plan\" + 0.024*\"GPS\"'),\n",
       "   (2, '0.087*\"phone\" + 0.035*\"Nextel\"'),\n",
       "   (3, '0.065*\"phone\" + 0.046*\"i730\"')]]]"
      ]
     },
     "execution_count": 46,
     "metadata": {},
     "output_type": "execute_result"
    }
   ],
   "source": [
    "results_array('B0000SX3BK',4,2) #Most generalized"
   ]
  },
  {
   "cell_type": "code",
   "execution_count": 47,
   "metadata": {},
   "outputs": [
    {
     "name": "stdout",
     "output_type": "stream",
     "text": [
      "528    I recently moved to Phoenix, Arizona, and thou...\n",
      "529    And it was pretty much worth it (if you sign t...\n",
      "530    I've glanced at a few reviews and looked at th...\n",
      "531    Other than the high initial cost (I got it bef...\n",
      "532    I don't own this phone. I own the cheaper Moto...\n",
      "Name: reviewText, dtype: object\n",
      "\n",
      "total reviews for this item :  6\n"
     ]
    },
    {
     "data": {
      "text/plain": [
       "[[1, 1, 2, 2, 3, 4, 4, 5, 5, 6],\n",
       " [[(0, '0.022*\"state\" + 0.022*\"connect\" + 0.022*\"Cool\"'),\n",
       "   (1, '0.063*\"Nextel\" + 0.063*\"phone\" + 0.063*\"number\"'),\n",
       "   (2, '0.022*\"Cool\" + 0.022*\"time\" + 0.022*\"numbers\"')],\n",
       "  [(0, '0.063*\"number\" + 0.063*\"phone\" + 0.063*\"Nextel\"'),\n",
       "   (1, '0.022*\"numbers\" + 0.022*\"miles\" + 0.022*\"function\"'),\n",
       "   (2, '0.022*\"call\" + 0.022*\"who\" + 0.022*\"stars\"')],\n",
       "  [(0, '0.018*\"phone\" + 0.018*\"gain\" + 0.018*\"picture\"'),\n",
       "   (1, '0.060*\"phone\" + 0.060*\"number\" + 0.060*\"Nextel\"'),\n",
       "   (2, '0.080*\"plan\" + 0.045*\"i95\" + 0.045*\"GPS\"')],\n",
       "  [(0, '0.080*\"plan\" + 0.045*\"i95\" + 0.045*\"features\"'),\n",
       "   (1, '0.018*\"phone\" + 0.018*\"GPS\" + 0.018*\"course\"'),\n",
       "   (2, '0.060*\"phone\" + 0.060*\"Nextel\" + 0.060*\"number\"')],\n",
       "  [(0, '0.101*\"phone\" + 0.027*\"software\" + 0.019*\"screen\"'),\n",
       "   (1, '0.010*\"remorse\" + 0.010*\"pricey\" + 0.010*\"features\"'),\n",
       "   (2, '0.051*\"number\" + 0.051*\"Nextel\" + 0.051*\"phone\"')],\n",
       "  [(0, '0.009*\"remorse\" + 0.009*\"i95\" + 0.009*\"features\"'),\n",
       "   (1, '0.097*\"phone\" + 0.023*\"software\" + 0.016*\"screen\"'),\n",
       "   (2, '0.049*\"Nextel\" + 0.049*\"phone\" + 0.049*\"number\"')],\n",
       "  [(0, '0.049*\"Nextel\" + 0.049*\"phone\" + 0.049*\"number\"'),\n",
       "   (1, '0.097*\"phone\" + 0.026*\"software\" + 0.018*\"screen\"'),\n",
       "   (2, '0.039*\"Nextel\" + 0.039*\"phone\" + 0.022*\"cost\"')],\n",
       "  [(0, '0.067*\"phone\" + 0.042*\"Nextel\" + 0.037*\"i710\"'),\n",
       "   (1, '0.091*\"phone\" + 0.023*\"software\" + 0.016*\"battery\"'),\n",
       "   (2, '0.039*\"plan\" + 0.022*\"features\" + 0.022*\"course\"')],\n",
       "  [(0, '0.094*\"phone\" + 0.031*\"i710\" + 0.027*\"i730\"'),\n",
       "   (1, '0.045*\"Nextel\" + 0.045*\"phone\" + 0.045*\"number\"'),\n",
       "   (2, '0.007*\"i95\" + 0.007*\"picture\" + 0.007*\"course\"')],\n",
       "  [(0, '0.038*\"phone\" + 0.027*\"plan\" + 0.027*\"Nextel\"'),\n",
       "   (1, '0.063*\"phone\" + 0.043*\"Nextel\" + 0.034*\"i730\"'),\n",
       "   (2, '0.086*\"phone\" + 0.025*\"software\" + 0.018*\"battery\"')]]]"
      ]
     },
     "execution_count": 47,
     "metadata": {},
     "output_type": "execute_result"
    }
   ],
   "source": [
    "results_array('B0000SX3BK',3,3)  #moderate results"
   ]
  },
  {
   "cell_type": "code",
   "execution_count": 52,
   "metadata": {},
   "outputs": [
    {
     "name": "stdout",
     "output_type": "stream",
     "text": [
      "528    I recently moved to Phoenix, Arizona, and thou...\n",
      "529    And it was pretty much worth it (if you sign t...\n",
      "530    I've glanced at a few reviews and looked at th...\n",
      "531    Other than the high initial cost (I got it bef...\n",
      "532    I don't own this phone. I own the cheaper Moto...\n",
      "Name: reviewText, dtype: object\n",
      "\n",
      "total reviews for this item :  6\n"
     ]
    },
    {
     "data": {
      "text/plain": [
       "[[1, 1, 2, 2, 3, 4, 4, 5, 5, 6],\n",
       " [[(0, '0.064*\"Nextel\" + 0.064*\"number\" + 0.064*\"phone\"'),\n",
       "   (1, '0.022*\"stars\" + 0.022*\"who\" + 0.022*\"Arizona\"'),\n",
       "   (2, '0.022*\"fees\" + 0.022*\"Nothing\" + 0.022*\"past\"'),\n",
       "   (3, '0.022*\"miles\" + 0.022*\"service.If\" + 0.022*\"assessments\"')],\n",
       "  [(0, '0.064*\"number\" + 0.064*\"phone\" + 0.064*\"Nextel\"'),\n",
       "   (1, '0.022*\"couple\" + 0.022*\"hour\" + 0.022*\"way\"'),\n",
       "   (2, '0.022*\"numbers\" + 0.022*\"Palo\" + 0.022*\"couple\"'),\n",
       "   (3, '0.022*\"Nextel\" + 0.022*\"phone\" + 0.022*\"number\"')],\n",
       "  [(0, '0.018*\"phone\" + 0.018*\"i95\" + 0.018*\"picture\"'),\n",
       "   (1, '0.063*\"phone\" + 0.063*\"number\" + 0.063*\"Nextel\"'),\n",
       "   (2, '0.091*\"plan\" + 0.051*\"GPS\" + 0.051*\"course\"'),\n",
       "   (3, '0.018*\"phone\" + 0.018*\"features\" + 0.018*\"i95\"')],\n",
       "  [(0, '0.018*\"phone\" + 0.018*\"pricey\" + 0.018*\"picture\"'),\n",
       "   (1, '0.091*\"plan\" + 0.051*\"course\" + 0.051*\"picture\"'),\n",
       "   (2, '0.018*\"phone\" + 0.018*\"i95\" + 0.018*\"gain\"'),\n",
       "   (3, '0.063*\"phone\" + 0.063*\"Nextel\" + 0.063*\"number\"')],\n",
       "  [(0, '0.055*\"phone\" + 0.055*\"Nextel\" + 0.055*\"number\"'),\n",
       "   (1, '0.010*\"phone\" + 0.010*\"GPS\" + 0.010*\"i95\"'),\n",
       "   (2, '0.110*\"phone\" + 0.032*\"software\" + 0.022*\"screen\"'),\n",
       "   (3, '0.062*\"plan\" + 0.034*\"GPS\" + 0.034*\"gain\"')],\n",
       "  [(0, '0.056*\"plan\" + 0.031*\"GPS\" + 0.031*\"picture\"'),\n",
       "   (1, '0.053*\"Nextel\" + 0.053*\"phone\" + 0.053*\"number\"'),\n",
       "   (2, '0.009*\"phone\" + 0.009*\"Sprint\" + 0.009*\"Nextel\"'),\n",
       "   (3, '0.104*\"phone\" + 0.026*\"software\" + 0.018*\"screen\"')],\n",
       "  [(0, '0.053*\"phone\" + 0.037*\"plan\" + 0.037*\"Nextel\"'),\n",
       "   (1, '0.009*\"GPS\" + 0.009*\"pricey\" + 0.009*\"remorse\"'),\n",
       "   (2, '0.053*\"Nextel\" + 0.053*\"phone\" + 0.053*\"number\"'),\n",
       "   (3, '0.106*\"phone\" + 0.031*\"software\" + 0.021*\"screen\"')],\n",
       "  [(0, '0.099*\"phone\" + 0.037*\"i710\" + 0.032*\"i730\"'),\n",
       "   (1, '0.047*\"plan\" + 0.026*\"GPS\" + 0.026*\"features\"'),\n",
       "   (2, '0.057*\"Nextel\" + 0.057*\"phone\" + 0.041*\"number\"'),\n",
       "   (3, '0.007*\"phone\" + 0.007*\"cost\" + 0.007*\"GPS\"')],\n",
       "  [(0, '0.098*\"phone\" + 0.026*\"software\" + 0.018*\"service\"'),\n",
       "   (1, '0.070*\"phone\" + 0.062*\"i710\" + 0.053*\"i730\"'),\n",
       "   (2, '0.057*\"Nextel\" + 0.057*\"phone\" + 0.041*\"number\"'),\n",
       "   (3, '0.007*\"features\" + 0.007*\"plan\" + 0.007*\"gain\"')],\n",
       "  [(0, '0.043*\"service\" + 0.043*\"Nextel\" + 0.043*\"phone\"'),\n",
       "   (1, '0.068*\"phone\" + 0.059*\"i710\" + 0.051*\"i730\"'),\n",
       "   (2, '0.051*\"phone\" + 0.043*\"Nextel\" + 0.043*\"number\"'),\n",
       "   (3, '0.095*\"phone\" + 0.028*\"software\" + 0.019*\"screen\"')]]]"
      ]
     },
     "execution_count": 52,
     "metadata": {},
     "output_type": "execute_result"
    }
   ],
   "source": [
    "results_array('B0000SX3BK',4,3) #70%"
   ]
  },
  {
   "cell_type": "code",
   "execution_count": 53,
   "metadata": {},
   "outputs": [
    {
     "name": "stdout",
     "output_type": "stream",
     "text": [
      "528    I recently moved to Phoenix, Arizona, and thou...\n",
      "529    And it was pretty much worth it (if you sign t...\n",
      "530    I've glanced at a few reviews and looked at th...\n",
      "531    Other than the high initial cost (I got it bef...\n",
      "532    I don't own this phone. I own the cheaper Moto...\n",
      "Name: reviewText, dtype: object\n",
      "\n",
      "total reviews for this item :  6\n"
     ]
    },
    {
     "data": {
      "text/plain": [
       "[[1, 1, 2, 2, 3, 4, 4, 5, 5, 6],\n",
       " [[(0, '0.022*\"numbers\" + 0.022*\"couple\" + 0.022*\"stars\" + 0.022*\"friend\"'),\n",
       "   (1, '0.022*\"anything\" + 0.022*\"return\" + 0.022*\"state\" + 0.022*\"stars\"'),\n",
       "   (2,\n",
       "    '0.022*\"miles\" + 0.022*\"connect\" + 0.022*\"service.If\" + 0.022*\"Arizona\"'),\n",
       "   (3, '0.064*\"number\" + 0.064*\"Nextel\" + 0.064*\"phone\" + 0.052*\"quot\"')],\n",
       "  [(0, '0.064*\"Nextel\" + 0.064*\"number\" + 0.064*\"phone\" + 0.052*\"quot\"'),\n",
       "   (1, '0.022*\"i730\" + 0.022*\"friend\" + 0.022*\"Palo\" + 0.022*\"function\"'),\n",
       "   (2, '0.022*\"way\" + 0.022*\"state\" + 0.022*\"Alto\" + 0.022*\"friend\"'),\n",
       "   (3, '0.022*\"way\" + 0.022*\"closest\" + 0.022*\"Alto\" + 0.022*\"drive\"')],\n",
       "  [(0, '0.091*\"plan\" + 0.051*\"GPS\" + 0.051*\"remorse\" + 0.051*\"gain\"'),\n",
       "   (1, '0.018*\"phone\" + 0.018*\"gain\" + 0.018*\"pricey\" + 0.018*\"course\"'),\n",
       "   (2, '0.063*\"phone\" + 0.063*\"number\" + 0.063*\"Nextel\" + 0.051*\"quot\"'),\n",
       "   (3, '0.018*\"phone\" + 0.018*\"pricey\" + 0.018*\"course\" + 0.018*\"gain\"')],\n",
       "  [(0, '0.091*\"plan\" + 0.051*\"pricey\" + 0.051*\"remorse\" + 0.051*\"picture\"'),\n",
       "   (1, '0.018*\"phone\" + 0.018*\"i95\" + 0.018*\"course\" + 0.018*\"features\"'),\n",
       "   (2, '0.018*\"phone\" + 0.018*\"i95\" + 0.018*\"gain\" + 0.018*\"course\"'),\n",
       "   (3, '0.063*\"phone\" + 0.063*\"number\" + 0.063*\"Nextel\" + 0.051*\"quot\"')],\n",
       "  [(0, '0.055*\"phone\" + 0.055*\"number\" + 0.055*\"Nextel\" + 0.045*\"quot\"'),\n",
       "   (1, '0.062*\"plan\" + 0.034*\"GPS\" + 0.034*\"gain\" + 0.034*\"course\"'),\n",
       "   (2, '0.110*\"phone\" + 0.032*\"software\" + 0.022*\"screen\" + 0.022*\"PDA\"'),\n",
       "   (3, '0.010*\"phone\" + 0.010*\"GPS\" + 0.010*\"picture\" + 0.010*\"remorse\"')],\n",
       "  [(0, '0.009*\"GPS\" + 0.009*\"features\" + 0.009*\"picture\" + 0.009*\"remorse\"'),\n",
       "   (1, '0.106*\"phone\" + 0.031*\"software\" + 0.021*\"screen\" + 0.021*\"service\"'),\n",
       "   (2, '0.009*\"GPS\" + 0.009*\"pricey\" + 0.009*\"picture\" + 0.009*\"remorse\"'),\n",
       "   (3, '0.063*\"phone\" + 0.055*\"Nextel\" + 0.040*\"number\" + 0.032*\"quot\"')],\n",
       "  [(0, '0.009*\"Sprint\" + 0.009*\"phone\" + 0.009*\"Nextel\" + 0.009*\"coverage\"'),\n",
       "   (1, '0.104*\"phone\" + 0.026*\"software\" + 0.018*\"screen\" + 0.018*\"battery\"'),\n",
       "   (2, '0.056*\"plan\" + 0.031*\"GPS\" + 0.031*\"course\" + 0.031*\"i95\"'),\n",
       "   (3, '0.053*\"Nextel\" + 0.053*\"phone\" + 0.053*\"number\" + 0.043*\"quot\"')],\n",
       "  [(0, '0.039*\"Nextel\" + 0.039*\"phone\" + 0.022*\"cost\" + 0.022*\"customer\"'),\n",
       "   (1, '0.007*\"GPS\" + 0.007*\"features\" + 0.007*\"plan\" + 0.007*\"remorse\"'),\n",
       "   (2, '0.053*\"phone\" + 0.045*\"Nextel\" + 0.045*\"number\" + 0.036*\"quot\"'),\n",
       "   (3, '0.099*\"phone\" + 0.037*\"i710\" + 0.032*\"i730\" + 0.032*\"friends\"')],\n",
       "  [(0, '0.007*\"features\" + 0.007*\"plan\" + 0.007*\"gain\" + 0.007*\"pricey\"'),\n",
       "   (1, '0.098*\"phone\" + 0.022*\"software\" + 0.015*\"battery\" + 0.015*\"nextel\"'),\n",
       "   (2, '0.070*\"phone\" + 0.062*\"i710\" + 0.053*\"i730\" + 0.053*\"friends\"'),\n",
       "   (3, '0.049*\"Nextel\" + 0.049*\"number\" + 0.049*\"phone\" + 0.040*\"quot\"')],\n",
       "  [(0, '0.049*\"Nextel\" + 0.049*\"phone\" + 0.043*\"service\" + 0.036*\"number\"'),\n",
       "   (1, '0.097*\"phone\" + 0.033*\"i710\" + 0.028*\"i730\" + 0.028*\"friends\"'),\n",
       "   (2, '0.006*\"Verizon\" + 0.006*\"Sprint\" + 0.006*\"secs\" + 0.006*\"delays\"'),\n",
       "   (3, '0.043*\"plan\" + 0.024*\"GPS\" + 0.024*\"features\" + 0.024*\"i95\"')]]]"
      ]
     },
     "execution_count": 53,
     "metadata": {},
     "output_type": "execute_result"
    }
   ],
   "source": [
    "results_array('B0000SX3BK',4,4) #70%"
   ]
  },
  {
   "cell_type": "code",
   "execution_count": 54,
   "metadata": {},
   "outputs": [
    {
     "name": "stdout",
     "output_type": "stream",
     "text": [
      "528    I recently moved to Phoenix, Arizona, and thou...\n",
      "529    And it was pretty much worth it (if you sign t...\n",
      "530    I've glanced at a few reviews and looked at th...\n",
      "531    Other than the high initial cost (I got it bef...\n",
      "532    I don't own this phone. I own the cheaper Moto...\n",
      "Name: reviewText, dtype: object\n",
      "\n",
      "total reviews for this item :  6\n"
     ]
    },
    {
     "data": {
      "text/plain": [
       "[[1, 1, 2, 2, 3, 4, 4, 5, 5, 6],\n",
       " [[(0,\n",
       "    '0.064*\"Nextel\" + 0.064*\"phone\" + 0.064*\"number\" + 0.052*\"quot\" + 0.040*\"Phoenix\"'),\n",
       "   (1,\n",
       "    '0.022*\"CA\" + 0.022*\"Palo\" + 0.022*\"miles\" + 0.022*\"drive\" + 0.022*\"time\"'),\n",
       "   (2,\n",
       "    '0.022*\"anything\" + 0.022*\"CA\" + 0.022*\"calls\" + 0.022*\"call\" + 0.022*\"Palo\"'),\n",
       "   (3,\n",
       "    '0.022*\"CA\" + 0.022*\"i730\" + 0.022*\"fees\" + 0.022*\"Palo\" + 0.022*\"anything\"')],\n",
       "  [(0,\n",
       "    '0.022*\"day\" + 0.022*\"function\" + 0.022*\"color\" + 0.022*\"assessments\" + 0.022*\"Alto\"'),\n",
       "   (1,\n",
       "    '0.064*\"Nextel\" + 0.064*\"number\" + 0.064*\"phone\" + 0.052*\"quot\" + 0.040*\"Phoenix\"'),\n",
       "   (2,\n",
       "    '0.022*\"closest\" + 0.022*\"CA\" + 0.022*\"Arizona\" + 0.022*\"miles\" + 0.022*\"stars\"'),\n",
       "   (3,\n",
       "    '0.022*\"phone\" + 0.022*\"number\" + 0.022*\"Nextel\" + 0.022*\"calls\" + 0.022*\"time\"')],\n",
       "  [(0,\n",
       "    '0.018*\"phone\" + 0.018*\"pricey\" + 0.018*\"course\" + 0.018*\"features\" + 0.018*\"gain\"'),\n",
       "   (1,\n",
       "    '0.063*\"phone\" + 0.063*\"number\" + 0.063*\"Nextel\" + 0.051*\"quot\" + 0.039*\"Phoenix\"'),\n",
       "   (2,\n",
       "    '0.018*\"phone\" + 0.018*\"picture\" + 0.018*\"features\" + 0.018*\"pricey\" + 0.018*\"course\"'),\n",
       "   (3,\n",
       "    '0.091*\"plan\" + 0.051*\"i95\" + 0.051*\"GPS\" + 0.051*\"remorse\" + 0.051*\"gain\"')],\n",
       "  [(0,\n",
       "    '0.018*\"phone\" + 0.018*\"pricey\" + 0.018*\"GPS\" + 0.018*\"picture\" + 0.018*\"i95\"'),\n",
       "   (1,\n",
       "    '0.018*\"phone\" + 0.018*\"features\" + 0.018*\"remorse\" + 0.018*\"pricey\" + 0.018*\"course\"'),\n",
       "   (2,\n",
       "    '0.063*\"phone\" + 0.063*\"number\" + 0.063*\"Nextel\" + 0.051*\"quot\" + 0.039*\"Phoenix\"'),\n",
       "   (3,\n",
       "    '0.091*\"plan\" + 0.051*\"gain\" + 0.051*\"picture\" + 0.051*\"course\" + 0.051*\"GPS\"')],\n",
       "  [(0,\n",
       "    '0.059*\"phone\" + 0.049*\"Nextel\" + 0.049*\"number\" + 0.040*\"quot\" + 0.031*\"Phoenix\"'),\n",
       "   (1,\n",
       "    '0.010*\"GPS\" + 0.010*\"pricey\" + 0.010*\"gain\" + 0.010*\"i95\" + 0.010*\"remorse\"'),\n",
       "   (2,\n",
       "    '0.110*\"phone\" + 0.032*\"software\" + 0.022*\"screen\" + 0.022*\"service\" + 0.022*\"battery\"'),\n",
       "   (3,\n",
       "    '0.010*\"GPS\" + 0.010*\"gain\" + 0.010*\"remorse\" + 0.010*\"i95\" + 0.010*\"picture\"')],\n",
       "  [(0,\n",
       "    '0.053*\"Nextel\" + 0.053*\"phone\" + 0.053*\"number\" + 0.043*\"quot\" + 0.033*\"Phoenix\"'),\n",
       "   (1,\n",
       "    '0.009*\"pricey\" + 0.009*\"course\" + 0.009*\"i95\" + 0.009*\"features\" + 0.009*\"picture\"'),\n",
       "   (2,\n",
       "    '0.105*\"phone\" + 0.028*\"software\" + 0.019*\"screen\" + 0.019*\"battery\" + 0.019*\"nextel\"'),\n",
       "   (3,\n",
       "    '0.045*\"Nextel\" + 0.045*\"phone\" + 0.025*\"cost\" + 0.025*\"seconds\" + 0.025*\"delays\"')],\n",
       "  [(0,\n",
       "    '0.056*\"plan\" + 0.031*\"pricey\" + 0.031*\"i95\" + 0.031*\"course\" + 0.031*\"gain\"'),\n",
       "   (1,\n",
       "    '0.045*\"Nextel\" + 0.045*\"phone\" + 0.025*\"cost\" + 0.025*\"delays\" + 0.025*\"Walkie-talkie\"'),\n",
       "   (2,\n",
       "    '0.053*\"phone\" + 0.053*\"Nextel\" + 0.053*\"number\" + 0.043*\"quot\" + 0.033*\"Phoenix\"'),\n",
       "   (3,\n",
       "    '0.106*\"phone\" + 0.031*\"software\" + 0.021*\"screen\" + 0.021*\"battery\" + 0.021*\"nextel\"')],\n",
       "  [(0,\n",
       "    '0.074*\"phone\" + 0.052*\"i710\" + 0.045*\"i730\" + 0.045*\"friends\" + 0.038*\"Nextel\"'),\n",
       "   (1,\n",
       "    '0.098*\"phone\" + 0.026*\"software\" + 0.018*\"battery\" + 0.018*\"service\" + 0.018*\"screen\"'),\n",
       "   (2,\n",
       "    '0.049*\"Nextel\" + 0.049*\"number\" + 0.049*\"phone\" + 0.040*\"quot\" + 0.031*\"Phoenix\"'),\n",
       "   (3,\n",
       "    '0.007*\"features\" + 0.007*\"plan\" + 0.007*\"i95\" + 0.007*\"gain\" + 0.007*\"pricey\"')],\n",
       "  [(0,\n",
       "    '0.007*\"features\" + 0.007*\"plan\" + 0.007*\"picture\" + 0.007*\"gain\" + 0.007*\"pricey\"'),\n",
       "   (1,\n",
       "    '0.049*\"Nextel\" + 0.049*\"number\" + 0.049*\"phone\" + 0.040*\"quot\" + 0.031*\"Phoenix\"'),\n",
       "   (2,\n",
       "    '0.098*\"phone\" + 0.022*\"software\" + 0.015*\"battery\" + 0.015*\"PDA\" + 0.015*\"speakers\"'),\n",
       "   (3,\n",
       "    '0.070*\"phone\" + 0.062*\"i710\" + 0.053*\"i730\" + 0.053*\"friends\" + 0.036*\"signal\"')],\n",
       "  [(0,\n",
       "    '0.006*\"features\" + 0.006*\"plan\" + 0.006*\"pricey\" + 0.006*\"course\" + 0.006*\"picture\"'),\n",
       "   (1,\n",
       "    '0.072*\"phone\" + 0.051*\"i710\" + 0.044*\"i730\" + 0.044*\"friends\" + 0.037*\"Nextel\"'),\n",
       "   (2,\n",
       "    '0.095*\"phone\" + 0.025*\"software\" + 0.017*\"battery\" + 0.017*\"screen\" + 0.017*\"speakers\"'),\n",
       "   (3,\n",
       "    '0.049*\"Nextel\" + 0.049*\"phone\" + 0.043*\"service\" + 0.036*\"number\" + 0.029*\"quot\"')]]]"
      ]
     },
     "execution_count": 54,
     "metadata": {},
     "output_type": "execute_result"
    }
   ],
   "source": [
    "results_array('B0000SX3BK',4,5) #Not useful at all"
   ]
  },
  {
   "cell_type": "code",
   "execution_count": 55,
   "metadata": {},
   "outputs": [
    {
     "name": "stdout",
     "output_type": "stream",
     "text": [
      "528    I recently moved to Phoenix, Arizona, and thou...\n",
      "529    And it was pretty much worth it (if you sign t...\n",
      "530    I've glanced at a few reviews and looked at th...\n",
      "531    Other than the high initial cost (I got it bef...\n",
      "532    I don't own this phone. I own the cheaper Moto...\n",
      "Name: reviewText, dtype: object\n",
      "\n",
      "total reviews for this item :  6\n"
     ]
    },
    {
     "data": {
      "text/plain": [
       "[[1, 1, 2, 2, 3, 4, 4, 5, 5, 6],\n",
       " [[(0, '0.022*\"who\" + 0.022*\"closest\" + 0.022*\"CA\"'),\n",
       "   (1, '0.022*\"Nextel\" + 0.022*\"number\" + 0.022*\"quot\"'),\n",
       "   (2, '0.022*\"drive\" + 0.022*\"closest\" + 0.022*\"function\"'),\n",
       "   (3, '0.022*\"Phoenix\" + 0.022*\"i730\" + 0.022*\"past\"'),\n",
       "   (4, '0.066*\"phone\" + 0.066*\"number\" + 0.066*\"Nextel\"')],\n",
       "  [(0, '0.022*\"service.If\" + 0.022*\"time\" + 0.022*\"way\"'),\n",
       "   (1, '0.022*\"time\" + 0.022*\"who\" + 0.022*\"Palo\"'),\n",
       "   (2, '0.066*\"number\" + 0.066*\"phone\" + 0.066*\"Nextel\"'),\n",
       "   (3, '0.022*\"past\" + 0.022*\"service.If\" + 0.022*\"Palo\"'),\n",
       "   (4, '0.022*\"phone\" + 0.022*\"number\" + 0.022*\"Nextel\"')],\n",
       "  [(0, '0.018*\"phone\" + 0.018*\"remorse\" + 0.018*\"picture\"'),\n",
       "   (1, '0.018*\"phone\" + 0.018*\"remorse\" + 0.018*\"picture\"'),\n",
       "   (2, '0.064*\"phone\" + 0.064*\"Nextel\" + 0.064*\"number\"'),\n",
       "   (3, '0.100*\"plan\" + 0.055*\"i95\" + 0.055*\"pricey\"'),\n",
       "   (4, '0.018*\"phone\" + 0.018*\"course\" + 0.018*\"remorse\"')],\n",
       "  [(0, '0.018*\"phone\" + 0.018*\"features\" + 0.018*\"i95\"'),\n",
       "   (1, '0.100*\"plan\" + 0.055*\"remorse\" + 0.055*\"course\"'),\n",
       "   (2, '0.018*\"phone\" + 0.018*\"features\" + 0.018*\"picture\"'),\n",
       "   (3, '0.018*\"phone\" + 0.018*\"i95\" + 0.018*\"picture\"'),\n",
       "   (4, '0.064*\"phone\" + 0.064*\"number\" + 0.064*\"Nextel\"')],\n",
       "  [(0, '0.070*\"plan\" + 0.038*\"GPS\" + 0.038*\"i95\"'),\n",
       "   (1, '0.058*\"phone\" + 0.058*\"Nextel\" + 0.058*\"number\"'),\n",
       "   (2, '0.010*\"phone\" + 0.010*\"GPS\" + 0.010*\"area\"'),\n",
       "   (3, '0.115*\"phone\" + 0.033*\"software\" + 0.023*\"screen\"'),\n",
       "   (4, '0.010*\"phone\" + 0.010*\"GPS\" + 0.010*\"course\"')],\n",
       "  [(0, '0.009*\"GPS\" + 0.009*\"customer\" + 0.009*\"phone\"'),\n",
       "   (1, '0.058*\"phone\" + 0.040*\"plan\" + 0.040*\"Nextel\"'),\n",
       "   (2, '0.009*\"phone\" + 0.009*\"GPS\" + 0.009*\"customer\"'),\n",
       "   (3, '0.112*\"phone\" + 0.032*\"software\" + 0.022*\"screen\"'),\n",
       "   (4, '0.056*\"Nextel\" + 0.056*\"phone\" + 0.056*\"number\"')],\n",
       "  [(0, '0.112*\"phone\" + 0.032*\"software\" + 0.022*\"screen\"'),\n",
       "   (1, '0.063*\"Nextel\" + 0.063*\"phone\" + 0.046*\"number\"'),\n",
       "   (2, '0.009*\"cost\" + 0.009*\"phone\" + 0.009*\"secs\"'),\n",
       "   (3, '0.009*\"cost\" + 0.009*\"phone\" + 0.009*\"secs\"'),\n",
       "   (4, '0.064*\"plan\" + 0.035*\"GPS\" + 0.035*\"i95\"')],\n",
       "  [(0, '0.007*\"cost\" + 0.007*\"duh\" + 0.007*\"Walkie-talkie\"'),\n",
       "   (1, '0.055*\"plan\" + 0.030*\"features\" + 0.030*\"picture\"'),\n",
       "   (2, '0.076*\"phone\" + 0.051*\"Nextel\" + 0.036*\"i730\"'),\n",
       "   (3, '0.105*\"phone\" + 0.030*\"software\" + 0.021*\"battery\"'),\n",
       "   (4, '0.007*\"cost\" + 0.007*\"coverage\" + 0.007*\"rumor\"')],\n",
       "  [(0, '0.104*\"phone\" + 0.027*\"software\" + 0.019*\"service\"'),\n",
       "   (1, '0.007*\"features\" + 0.007*\"gain\" + 0.007*\"remorse\"'),\n",
       "   (2, '0.007*\"features\" + 0.007*\"gain\" + 0.007*\"remorse\"'),\n",
       "   (3, '0.060*\"Nextel\" + 0.060*\"phone\" + 0.043*\"number\"'),\n",
       "   (4, '0.074*\"phone\" + 0.065*\"i710\" + 0.056*\"i730\"')],\n",
       "  [(0, '0.072*\"phone\" + 0.063*\"i710\" + 0.054*\"i730\"'),\n",
       "   (1, '0.006*\"phone\" + 0.006*\"GPS\" + 0.006*\"features\"'),\n",
       "   (2, '0.102*\"phone\" + 0.029*\"software\" + 0.020*\"screen\"'),\n",
       "   (3, '0.058*\"Nextel\" + 0.058*\"phone\" + 0.042*\"number\"'),\n",
       "   (4, '0.053*\"service\" + 0.040*\"phone\" + 0.028*\"review\"')]]]"
      ]
     },
     "execution_count": 55,
     "metadata": {},
     "output_type": "execute_result"
    }
   ],
   "source": [
    "results_array('B0000SX3BK',5,3) #At 80% of total reviews we can see req topics with least probabilities."
   ]
  },
  {
   "cell_type": "markdown",
   "metadata": {},
   "source": [
    "# Observations:\n",
    "    It is observed that at 70% of total reviews, with 4 topics and 4 words each, we have accurate results."
   ]
  },
  {
   "cell_type": "markdown",
   "metadata": {},
   "source": [
    "### Working with a different item"
   ]
  },
  {
   "cell_type": "code",
   "execution_count": null,
   "metadata": {
    "collapsed": true
   },
   "outputs": [],
   "source": [
    "#Should run the code with different item and different data. at 70% reviews, 4 and 4 topics and words.."
   ]
  },
  {
   "cell_type": "code",
   "execution_count": null,
   "metadata": {
    "collapsed": true
   },
   "outputs": [],
   "source": []
  }
 ],
 "metadata": {
  "kernelspec": {
   "display_name": "Python 3",
   "language": "python",
   "name": "python3"
  },
  "language_info": {
   "codemirror_mode": {
    "name": "ipython",
    "version": 3
   },
   "file_extension": ".py",
   "mimetype": "text/x-python",
   "name": "python",
   "nbconvert_exporter": "python",
   "pygments_lexer": "ipython3",
   "version": "3.6.2"
  }
 },
 "nbformat": 4,
 "nbformat_minor": 2
}
